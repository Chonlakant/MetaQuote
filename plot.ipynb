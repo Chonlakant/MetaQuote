{
 "cells": [
  {
   "cell_type": "markdown",
   "metadata": {},
   "source": [
    "# uADA Price Visualization\n",
    "\n",
    "This notebook visualizes the price data of uADA token from the past hour. We'll create line charts for both `ua_token_amount` and `odos_usdc_return`."
   ]
  },
  {
   "cell_type": "code",
   "execution_count": null,
   "metadata": {},
   "outputs": [],
   "source": [
    "# Import required libraries\n",
    "import pandas as pd\n",
    "import matplotlib.pyplot as plt\n",
    "import matplotlib.dates as mdates\n",
    "from datetime import datetime\n",
    "import numpy as np\n",
    "\n",
    "# Set figure aesthetics for better visualization\n",
    "plt.style.use('ggplot')\n",
    "%matplotlib inline"
   ]
  },
  {
   "cell_type": "code",
   "execution_count": null,
   "metadata": {},
   "outputs": [],
   "source": [
    "# Load the CSV data\n",
    "df = pd.read_csv('uADA_price_1hrs.csv')\n",
    "\n",
    "# Display the first few rows to verify data loading\n",
    "print(f\"Total rows: {len(df)}\")\n",
    "df.head()"
   ]
  },
  {
   "cell_type": "code",
   "execution_count": null,
   "metadata": {},
   "outputs": [],
   "source": [
    "# Data preprocessing\n",
    "# Convert timestamp to datetime\n",
    "df['timestamp'] = pd.to_datetime(df['timestamp'])\n",
    "\n",
    "# Convert ua_token_amount from string to float (it's in wei format with 18 decimals)\n",
    "df['ua_token_amount'] = df['ua_token_amount'].astype(float)\n",
    "\n",
    "# Convert to a more readable format (divide by 10^18 to get the actual token amount)\n",
    "df['ua_token_amount_readable'] = df['ua_token_amount'] / 1e18\n",
    "\n",
    "# Sort by timestamp to ensure proper chronological order\n",
    "df = df.sort_values('timestamp')\n",
    "\n",
    "# Check data types after conversion\n",
    "df.dtypes"
   ]
  },
  {
   "cell_type": "markdown",
   "metadata": {},
   "source": [
    "## Basic Line Charts\n",
    "\n",
    "Let's create two separate line charts for the token amount and USDC return."
   ]
  },
  {
   "cell_type": "code",
   "execution_count": null,
   "metadata": {},
   "outputs": [],
   "source": [
    "# Set up the figure with two subplots (one for each metric)\n",
    "plt.figure(figsize=(14, 10))\n",
    "\n",
    "# Plot 1: ua_token_amount over time\n",
    "plt.subplot(2, 1, 1)\n",
    "plt.plot(df['timestamp'], df['ua_token_amount_readable'], color='blue', linewidth=2)\n",
    "plt.title('uADA Token Amount Over Time', fontsize=16)\n",
    "plt.ylabel('Token Amount', fontsize=14)\n",
    "plt.grid(True, alpha=0.3)\n",
    "\n",
    "# Format the x-axis to show nice time labels\n",
    "plt.gca().xaxis.set_major_formatter(mdates.DateFormatter('%H:%M'))\n",
    "plt.xticks(rotation=45)\n",
    "\n",
    "# Plot 2: odos_usdc_return over time\n",
    "plt.subplot(2, 1, 2)\n",
    "plt.plot(df['timestamp'], df['odos_usdc_return'], color='green', linewidth=2)\n",
    "plt.title('USDC Return Value Over Time', fontsize=16)\n",
    "plt.xlabel('Time', fontsize=14)\n",
    "plt.ylabel('USDC Value', fontsize=14)\n",
    "plt.grid(True, alpha=0.3)\n",
    "\n",
    "# Format the x-axis to show nice time labels\n",
    "plt.gca().xaxis.set_major_formatter(mdates.DateFormatter('%H:%M'))\n",
    "plt.xticks(rotation=45)\n",
    "\n",
    "# Adjust layout\n",
    "plt.tight_layout()\n",
    "plt.savefig('uada_price_charts.png', dpi=300)\n",
    "plt.show()"
   ]
  },
  {
   "cell_type": "markdown",
   "metadata": {},
   "source": [
    "## Enhanced Visualization with Trend Lines\n",
    "\n",
    "Now let's create more detailed visualizations with trend lines and annotations."
   ]
  },
  {
   "cell_type": "code",
   "execution_count": null,
   "metadata": {},
   "outputs": [],
   "source": [
    "# Enhanced visualization with additional insights\n",
    "plt.figure(figsize=(16, 12))\n",
    "\n",
    "# Plot with more detailed formatting\n",
    "# 1. ua_token_amount with trend line\n",
    "plt.subplot(2, 1, 1)\n",
    "plt.plot(df['timestamp'], df['ua_token_amount_readable'], color='blue', linewidth=2, label='Token Amount')\n",
    "\n",
    "# Add trend line\n",
    "z = np.polyfit(range(len(df)), df['ua_token_amount_readable'], 1)\n",
    "p = np.poly1d(z)\n",
    "plt.plot(df['timestamp'], p(range(len(df))), \"r--\", linewidth=1, label='Trend Line')\n",
    "\n",
    "plt.title('uADA Token Amount Over Time', fontsize=16)\n",
    "plt.ylabel('Token Amount', fontsize=14)\n",
    "plt.grid(True, alpha=0.3)\n",
    "plt.legend()\n",
    "\n",
    "# Add annotations for min and max values\n",
    "max_token_idx = df['ua_token_amount_readable'].idxmax()\n",
    "min_token_idx = df['ua_token_amount_readable'].idxmin()\n",
    "\n",
    "plt.annotate(f'Max: {df.loc[max_token_idx, \"ua_token_amount_readable\"]:.2f}',\n",
    "             xy=(df.loc[max_token_idx, 'timestamp'], df.loc[max_token_idx, 'ua_token_amount_readable']),\n",
    "             xytext=(10, 10), textcoords='offset points', arrowprops=dict(arrowstyle='->'))\n",
    "\n",
    "plt.annotate(f'Min: {df.loc[min_token_idx, \"ua_token_amount_readable\"]:.2f}',\n",
    "             xy=(df.loc[min_token_idx, 'timestamp'], df.loc[min_token_idx, 'ua_token_amount_readable']),\n",
    "             xytext=(10, -20), textcoords='offset points', arrowprops=dict(arrowstyle='->'))\n",
    "\n",
    "# Format the x-axis\n",
    "plt.gca().xaxis.set_major_formatter(mdates.DateFormatter('%H:%M'))\n",
    "plt.xticks(rotation=45)\n",
    "\n",
    "# 2. odos_usdc_return with trend line\n",
    "plt.subplot(2, 1, 2)\n",
    "plt.plot(df['timestamp'], df['odos_usdc_return'], color='green', linewidth=2, label='USDC Return')\n",
    "\n",
    "# Add trend line\n",
    "z = np.polyfit(range(len(df)), df['odos_usdc_return'], 1)\n",
    "p = np.poly1d(z)\n",
    "plt.plot(df['timestamp'], p(range(len(df))), \"r--\", linewidth=1, label='Trend Line')\n",
    "\n",
    "plt.title('USDC Return Value Over Time', fontsize=16)\n",
    "plt.xlabel('Time', fontsize=14)\n",
    "plt.ylabel('USDC Value', fontsize=14)\n",
    "plt.grid(True, alpha=0.3)\n",
    "plt.legend()\n",
    "\n",
    "# Add annotations for min and max values\n",
    "max_usdc_idx = df['odos_usdc_return'].idxmax()\n",
    "min_usdc_idx = df['odos_usdc_return'].idxmin()\n",
    "\n",
    "plt.annotate(f'Max: {df.loc[max_usdc_idx, \"odos_usdc_return\"]:.2f}',\n",
    "             xy=(df.loc[max_usdc_idx, 'timestamp'], df.loc[max_usdc_idx, 'odos_usdc_return']),\n",
    "             xytext=(10, 10), textcoords='offset points', arrowprops=dict(arrowstyle='->'))\n",
    "\n",
    "plt.annotate(f'Min: {df.loc[min_usdc_idx, \"odos_usdc_return\"]:.2f}',\n",
    "             xy=(df.loc[min_usdc_idx, 'timestamp'], df.loc[min_usdc_idx, 'odos_usdc_return']),\n",
    "             xytext=(10, -20), textcoords='offset points', arrowprops=dict(arrowstyle='->'))\n",
    "\n",
    "# Format the x-axis\n",
    "plt.gca().xaxis.set_major_formatter(mdates.DateFormatter('%H:%M'))\n",
    "plt.xticks(rotation=45)\n",
    "\n",
    "plt.tight_layout()\n",
    "plt.savefig('uada_price_charts_with_trend.png', dpi=300)\n",
    "plt.show()"
   ]
  },
  {
   "cell_type": "markdown",
   "metadata": {},
   "source": [
    "## Correlation Analysis\n",
    "\n",
    "Let's analyze the relationship between token amount and USDC return."
   ]
  },
  {
   "cell_type": "code",
   "execution_count": null,
   "metadata": {},
   "outputs": [],
   "source": [
    "# Correlation analysis\n",
    "correlation = df['ua_token_amount_readable'].corr(df['odos_usdc_return'])\n",
    "print(f\"Correlation between token amount and USDC return: {correlation:.4f}\")\n",
    "\n",
    "# Display basic statistics\n",
    "print(\"\\nStatistics for uADA Token Amount:\")\n",
    "print(df['ua_token_amount_readable'].describe())\n",
    "\n",
    "print(\"\\nStatistics for USDC Return:\")\n",
    "print(df['odos_usdc_return'].describe())"
   ]
  },
  {
   "cell_type": "code",
   "execution_count": null,
   "metadata": {},
   "outputs": [],
   "source": [
    "# Plot the relationship between token amount and USDC return\n",
    "plt.figure(figsize=(10, 6))\n",
    "plt.scatter(df['ua_token_amount_readable'], df['odos_usdc_return'], alpha=0.5)\n",
    "plt.title('Relationship Between Token Amount and USDC Return', fontsize=16)\n",
    "plt.xlabel('Token Amount', fontsize=14)\n",
    "plt.ylabel('USDC Return', fontsize=14)\n",
    "plt.grid(True, alpha=0.3)\n",
    "\n",
    "# Add trend line\n",
    "z = np.polyfit(df['ua_token_amount_readable'], df['odos_usdc_return'], 1)\n",
    "p = np.poly1d(z)\n",
    "plt.plot(df['ua_token_amount_readable'], p(df['ua_token_amount_readable']), \"r--\")\n",
    "\n",
    "plt.tight_layout()\n",
    "plt.savefig('uada_relationship_chart.png', dpi=300)\n",
    "plt.show()"
   ]
  }
 ],
 "metadata": {
  "kernelspec": {
   "display_name": "Python 3",
   "language": "python",
   "name": "python3"
  },
  "language_info": {
   "codemirror_mode": {
    "name": "ipython",
    "version": 3
   },
   "file_extension": ".py",
   "mimetype": "text/x-python",
   "name": "python",
   "nbconvert_exporter": "python",
   "pygments_lexer": "ipython3",
   "version": "3.8.10"
  }
 },
 "nbformat": 4,
 "nbformat_minor": 4
}
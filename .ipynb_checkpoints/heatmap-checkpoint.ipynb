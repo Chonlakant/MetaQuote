{
 "cells": [
  {
   "cell_type": "markdown",
   "metadata": {},
   "source": [
    "# USDC Return Heatmap Analysis\n",
    "\n",
    "This notebook analyzes the USDC return data for uADA token and creates visualizations to show patterns in the return values, with a focus on identifying high-return periods (>1000 USDC)."
   ]
  },
  {
   "cell_type": "code",
   "execution_count": null,
   "metadata": {},
   "outputs": [],
   "source": [
    "# Import required libraries\n",
    "import pandas as pd\n",
    "import numpy as np\n",
    "import matplotlib.pyplot as plt\n",
    "import seaborn as sns\n",
    "from datetime import datetime\n",
    "import matplotlib.dates as mdates\n",
    "import matplotlib.colors as mcolors\n",
    "\n",
    "# Set plotting style and options\n",
    "plt.style.use('ggplot')\n",
    "%matplotlib inline\n",
    "plt.rcParams['figure.dpi'] = 100\n",
    "sns.set_context(\"notebook\", font_scale=1.1)"
   ]
  },
  {
   "cell_type": "markdown",
   "metadata": {},
   "source": [
    "## Data Loading and Preprocessing\n",
    "\n",
    "First, let's load the uADA token data and prepare it for analysis."
   ]
  },
  {
   "cell_type": "code",
   "execution_count": null,
   "metadata": {},
   "outputs": [],
   "source": [
    "# Load the data\n",
    "df = pd.read_csv('uLINK_price_168hrs.csv')\n",
    "\n",
    "# Display the first few rows\n",
    "print(f\"Total rows: {len(df)}\")\n",
    "df.head()"
   ]
  },
  {
   "cell_type": "code",
   "execution_count": null,
   "metadata": {},
   "outputs": [],
   "source": [
    "# Convert timestamp to datetime\n",
    "df['timestamp'] = pd.to_datetime(df['timestamp'])\n",
    "\n",
    "# Extract day and hour information\n",
    "df['day_of_week'] = df['timestamp'].dt.day_name()\n",
    "df['hour'] = df['timestamp'].dt.hour\n",
    "df['minute'] = df['timestamp'].dt.minute\n",
    "\n",
    "# Create time bins for analysis\n",
    "df['hour_bin'] = df['hour'].astype(str) + ':00'\n",
    "df['minute_bin'] = (df['minute'] // 15) * 15  # Group by 15-minute intervals\n",
    "df['time_bin'] = df['hour'].astype(str) + ':' + df['minute_bin'].astype(str).str.zfill(2)\n",
    "\n",
    "# Basic information about the dataset\n",
    "print(f\"Date range: {df['timestamp'].min()} to {df['timestamp'].max()}\")\n",
    "print(f\"Days in dataset: {df['day_of_week'].unique()}\")\n",
    "print(f\"Hours in dataset: {sorted(df['hour'].unique())}\")\n",
    "print(f\"USDC Return range: {df['odos_usdc_return'].min():.2f} to {df['odos_usdc_return'].max():.2f}\")"
   ]
  },
  {
   "cell_type": "markdown",
   "metadata": {},
   "source": [
    "## Analyzing High-Value Returns\n",
    "\n",
    "Let's identify and analyze periods with high USDC return values (>1000)."
   ]
  },
  {
   "cell_type": "code",
   "execution_count": null,
   "metadata": {},
   "outputs": [],
   "source": [
    "# Find entries with high returns\n",
    "high_returns = df[df['odos_usdc_return'] > 1000]\n",
    "print(f\"Entries with USDC return > 1000: {len(high_returns)}\")\n",
    "print(f\"Percentage of high returns: {(len(high_returns) / len(df) * 100):.2f}%\")\n",
    "\n",
    "if not high_returns.empty:\n",
    "    print(\"\\nTop 10 highest return times:\")\n",
    "    top_returns = high_returns.sort_values('odos_usdc_return', ascending=False).head(10)\n",
    "    for _, row in top_returns.iterrows():\n",
    "        print(f\"Time: {row['timestamp'].strftime('%H:%M:%S')} - Return: {row['odos_usdc_return']:.2f}\")\n",
    "        \n",
    "    # Distribution of high returns by hour\n",
    "    hour_counts = high_returns['hour'].value_counts().sort_index()\n",
    "    print(\"\\nDistribution of high returns by hour:\")\n",
    "    for hour, count in hour_counts.items():\n",
    "        print(f\"Hour {hour}: {count} entries\")"
   ]
  },
  {
   "cell_type": "markdown",
   "metadata": {},
   "source": [
    "## Hourly Return Heatmap\n",
    "\n",
    "Since we only have data for a single day, we'll create a heatmap showing returns by hour and 15-minute intervals."
   ]
  },
  {
   "cell_type": "code",
   "execution_count": null,
   "metadata": {},
   "outputs": [],
   "source": [
    "# Create a pivot table for the heatmap\n",
    "pivot_data = df.pivot_table(\n",
    "    values='odos_usdc_return',\n",
    "    index='minute_bin',\n",
    "    columns='hour',\n",
    "    aggfunc='mean'\n",
    ")\n",
    "\n",
    "# Set up plotting parameters\n",
    "plt.figure(figsize=(15, 8))\n",
    "\n",
    "# Define custom colormap - light green to dark green\n",
    "colors = ['#e5f5e0', '#c7e9c0', '#a1d99b', '#74c476', '#41ab5d', '#238b45', '#006d2c', '#00441b']\n",
    "cmap = mcolors.LinearSegmentedColormap.from_list('green_gradient', colors)\n",
    "\n",
    "# Create the heatmap\n",
    "ax = sns.heatmap(\n",
    "    pivot_data,\n",
    "    cmap=cmap,\n",
    "    annot=True,\n",
    "    fmt=\".2f\",\n",
    "    linewidths=0.5,\n",
    "    cbar_kws={'label': 'USDC Return Value'}\n",
    ")\n",
    "\n",
    "# Set the title and labels\n",
    "plt.title('USDC Return by Hour and 15-Minute Intervals (Monday, March 17, 2025)', fontsize=16)\n",
    "plt.xlabel('Hour of Day', fontsize=14)\n",
    "plt.ylabel('Minute Interval', fontsize=14)\n",
    "\n",
    "# Adjust colorbar to highlight values close to 1000\n",
    "max_return = df['odos_usdc_return'].max()\n",
    "plt.clim(df['odos_usdc_return'].min(), max_return)\n",
    "\n",
    "# Annotate the highest value\n",
    "max_value = df['odos_usdc_return'].max()\n",
    "max_hour = df.loc[df['odos_usdc_return'].idxmax(), 'hour']\n",
    "max_minute = df.loc[df['odos_usdc_return'].idxmax(), 'minute_bin']\n",
    "max_time = f\"{max_hour}:{max_minute:02d}\"\n",
    "plt.text(0.5, -0.1, f\"Highest USDC Return: {max_value:.2f} at {max_time}\", \n",
    "         horizontalalignment='center', fontsize=12, transform=ax.transAxes)\n",
    "\n",
    "plt.tight_layout()\n",
    "plt.show()"
   ]
  },
  {
   "cell_type": "markdown",
   "metadata": {},
   "source": [
    "## Average Return by Hour\n",
    "\n",
    "Next, let's see how the average USDC return changes throughout the day."
   ]
  },
  {
   "cell_type": "code",
   "execution_count": null,
   "metadata": {},
   "outputs": [],
   "source": [
    "# Group by hour and calculate mean\n",
    "hourly_avg = df.groupby('hour')['odos_usdc_return'].mean().reset_index()\n",
    "\n",
    "# Create the plot\n",
    "plt.figure(figsize=(15, 6))\n",
    "sns.lineplot(x='hour', y='odos_usdc_return', data=hourly_avg, marker='o', linewidth=2)\n",
    "plt.axhline(y=1000, color='r', linestyle='--', label='1000 USDC Return Threshold')\n",
    "\n",
    "# Styling\n",
    "plt.title('Average USDC Return by Hour (Monday, March 17, 2025)', fontsize=16)\n",
    "plt.xlabel('Hour of Day', fontsize=14)\n",
    "plt.ylabel('Average USDC Return', fontsize=14)\n",
    "plt.grid(True, alpha=0.3)\n",
    "plt.xticks(range(min(df['hour']), max(df['hour'])+1))\n",
    "plt.legend()\n",
    "\n",
    "# Annotate hours with highest returns\n",
    "top_hours = hourly_avg.nlargest(3, 'odos_usdc_return')\n",
    "for _, row in top_hours.iterrows():\n",
    "    plt.annotate(f\"{row['odos_usdc_return']:.2f}\", \n",
    "                 xy=(row['hour'], row['odos_usdc_return']),\n",
    "                 xytext=(5, 5), textcoords='offset points')\n",
    "\n",
    "plt.tight_layout()\n",
    "plt.show()"
   ]
  },
  {
   "cell_type": "markdown",
   "metadata": {},
   "source": [
    "## Distribution of Return Values\n",
    "\n",
    "Let's examine the overall distribution of USDC return values."
   ]
  },
  {
   "cell_type": "code",
   "execution_count": null,
   "metadata": {},
   "outputs": [],
   "source": [
    "# Create histogram of returns\n",
    "plt.figure(figsize=(12, 6))\n",
    "sns.histplot(df['odos_usdc_return'], bins=20, kde=True)\n",
    "plt.title('Distribution of USDC Return Values', fontsize=16)\n",
    "plt.xlabel('USDC Return', fontsize=14)\n",
    "plt.ylabel('Frequency', fontsize=14)\n",
    "plt.axvline(x=1000, color='r', linestyle='--', label='1000 USDC Return Threshold')\n",
    "plt.legend()\n",
    "plt.grid(True, alpha=0.3)\n",
    "plt.tight_layout()\n",
    "plt.show()"
   ]
  },
  {
   "cell_type": "markdown",
   "metadata": {},
   "source": [
    "## Analyzing High Return Periods\n",
    "\n",
    "Let's take a closer look at the times when USDC return values were highest."
   ]
  },
  {
   "cell_type": "code",
   "execution_count": null,
   "metadata": {},
   "outputs": [],
   "source": [
    "if not high_returns.empty:\n",
    "    # Create a new figure\n",
    "    plt.figure(figsize=(14, 7))\n",
    "    \n",
    "    # Plot all returns\n",
    "    plt.scatter(df['timestamp'], df['odos_usdc_return'], \n",
    "                alpha=0.4, label='All Returns', color='gray', s=10)\n",
    "    \n",
    "    # Highlight high returns\n",
    "    plt.scatter(high_returns['timestamp'], high_returns['odos_usdc_return'], \n",
    "                alpha=0.8, label='Returns > 1000', color='green', s=30)\n",
    "    \n",
    "    # Add threshold line\n",
    "    plt.axhline(y=1000, color='r', linestyle='--', label='1000 USDC Threshold')\n",
    "    \n",
    "    # Styling\n",
    "    plt.title('USDC Return Values Throughout the Day', fontsize=16)\n",
    "    plt.xlabel('Time', fontsize=14)\n",
    "    plt.ylabel('USDC Return', fontsize=14)\n",
    "    plt.grid(True, alpha=0.3)\n",
    "    plt.legend()\n",
    "    \n",
    "    # Format x-axis to show readable time\n",
    "    plt.gca().xaxis.set_major_formatter(mdates.DateFormatter('%H:%M'))\n",
    "    plt.gcf().autofmt_xdate()\n",
    "    \n",
    "    plt.tight_layout()\n",
    "    plt.show()\n",
    "    \n",
    "    # Count high returns by hour\n",
    "    high_by_hour = high_returns.groupby('hour').size()\n",
    "    \n",
    "    plt.figure(figsize=(12, 5))\n",
    "    high_by_hour.plot(kind='bar', color='green')\n",
    "    plt.title('Number of High Returns (>1000) by Hour', fontsize=16)\n",
    "    plt.xlabel('Hour of Day', fontsize=14)\n",
    "    plt.ylabel('Count', fontsize=14)\n",
    "    plt.grid(True, alpha=0.3)\n",
    "    plt.tight_layout()\n",
    "    plt.show()"
   ]
  },
  {
   "cell_type": "markdown",
   "metadata": {},
   "source": [
    "## Summary and Findings\n",
    "\n",
    "Based on our analysis of the uADA token USDC return data, we can draw the following conclusions about when returns exceed 1000 USDC:"
   ]
  },
  {
   "cell_type": "code",
   "execution_count": null,
   "metadata": {},
   "outputs": [],
   "source": [
    "# Generate summary statistics\n",
    "if not high_returns.empty:\n",
    "    print(\"Summary of high return periods (>1000 USDC):\")\n",
    "    print(f\"Total high return entries: {len(high_returns)} out of {len(df)} ({len(high_returns)/len(df)*100:.2f}%)\")\n",
    "    \n",
    "    # Most profitable hour\n",
    "    best_hour = high_returns.groupby('hour')['odos_usdc_return'].mean().idxmax()\n",
    "    best_hour_avg = high_returns.groupby('hour')['odos_usdc_return'].mean().max()\n",
    "    print(f\"Most profitable hour: {best_hour}:00 with average return of {best_hour_avg:.2f}\")\n",
    "    \n",
    "    # Hour with most high returns\n",
    "    most_freq_hour = high_returns['hour'].value_counts().idxmax()\n",
    "    most_freq_count = high_returns['hour'].value_counts().max()\n",
    "    print(f\"Hour with most high returns: {most_freq_hour}:00 with {most_freq_count} occurrences\")\n",
    "    \n",
    "    # Best 15-minute interval\n",
    "    high_returns['interval'] = high_returns['hour'].astype(str) + ':' + high_returns['minute_bin'].astype(str).str.zfill(2)\n",
    "    best_interval = high_returns.groupby('interval')['odos_usdc_return'].mean().idxmax()\n",
    "    best_interval_avg = high_returns.groupby('interval')['odos_usdc_return'].mean().max()\n",
    "    print(f\"Best 15-minute interval: {best_interval} with average return of {best_interval_avg:.2f}\")\n",
    "else:\n",
    "    print(\"No entries with USDC return > 1000 found in the dataset.\")"
   ]
  }
 ],
 "metadata": {
  "kernelspec": {
   "display_name": "Python 3 (ipykernel)",
   "language": "python",
   "name": "python3"
  },
  "language_info": {
   "codemirror_mode": {
    "name": "ipython",
    "version": 3
   },
   "file_extension": ".py",
   "mimetype": "text/x-python",
   "name": "python",
   "nbconvert_exporter": "python",
   "pygments_lexer": "ipython3",
   "version": "3.13.2"
  }
 },
 "nbformat": 4,
 "nbformat_minor": 4
}
